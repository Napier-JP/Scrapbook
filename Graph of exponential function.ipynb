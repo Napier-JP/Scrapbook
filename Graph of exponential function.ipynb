{
 "cells": [
  {
   "cell_type": "code",
   "execution_count": 1,
   "metadata": {},
   "outputs": [],
   "source": [
    "import matplotlib.pyplot as plt\n",
    "import numpy as np"
   ]
  },
  {
   "cell_type": "code",
   "execution_count": 2,
   "metadata": {},
   "outputs": [
    {
     "data": {
      "image/png": "[encoded data removed]",
      "text/plain": [
       "<matplotlib.figure.Figure at 0x2d13aa27128>"
      ]
     },
     "metadata": {},
     "output_type": "display_data"
    }
   ],
   "source": [
    "x = np.arange(-10, 2.1, 0.1)\n",
    "\n",
    "y = (np.e)**x\n",
    "\n",
    "plt.plot(x, y)\n",
    "\n",
    "#x軸とy軸を同じスケールで\n",
    "plt.axis('scaled')\n",
    "\n",
    "#1刻みで目盛り表示を強制\n",
    "plt.xticks(list(map(lambda x: x, np.arange(-10,3))))\n",
    "#plt.yticks(list(map(lambda y: y, np.arange(0, 9))))    #見た目の好みのために無効化してあります\n",
    "\n",
    "#グリッド表示\n",
    "plt.grid(linewidth=0.5)\n",
    "\n",
    "#外枠をすべて非表示\n",
    "plt.gca().spines['top'].set_visible(False)\n",
    "plt.gca().spines['bottom'].set_visible(False)\n",
    "plt.gca().spines['left'].set_visible(False)\n",
    "plt.gca().spines['right'].set_visible(False)\n",
    "\n",
    "#目盛りの表示設定\n",
    "plt.tick_params(\n",
    "    axis='both',\n",
    "    which='both',\n",
    "    left=False,           #外枠目盛りを非表示\n",
    "    bottom=False, \n",
    "    labelleft=False,      #外枠目盛りの数字を非表示\n",
    "    labelbottom=False\n",
    ")\n",
    "\n",
    "#各形式で出力\n",
    "plt.savefig(\"expgraph.png\", format=\"png\", dpi=400, transparent=True)\n",
    "plt.savefig(\"expgraph.svg\", format=\"svg\", transparent=True)\n",
    "plt.savefig(\"expgraph.eps\", format=\"eps\", transparent=True)\n",
    "plt.savefig(\"expgraph.pdf\", format=\"pdf\", transparent=True)\n",
    "\n",
    "plt.show()"
   ]
  },
  {
   "cell_type": "code",
   "execution_count": null,
   "metadata": {},
   "outputs": [],
   "source": []
  }
 ],
 "metadata": {
  "kernelspec": {
   "display_name": "Python 3",
   "language": "python",
   "name": "python3"
  },
  "language_info": {
   "codemirror_mode": {
    "name": "ipython",
    "version": 3
   },
   "file_extension": ".py",
   "mimetype": "text/x-python",
   "name": "python",
   "nbconvert_exporter": "python",
   "pygments_lexer": "ipython3",
   "version": "3.6.4"
  }
 },
 "nbformat": 4,
 "nbformat_minor": 2
}
