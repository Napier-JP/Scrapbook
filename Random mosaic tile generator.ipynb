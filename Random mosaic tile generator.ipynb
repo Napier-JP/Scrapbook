{
 "cells": [
  {
   "cell_type": "code",
   "execution_count": 1,
   "metadata": {},
   "outputs": [],
   "source": [
    "import seaborn as sns\n",
    "import numpy as np\n",
    "import matplotlib.pyplot as plt\n",
    "from matplotlib.colors import ListedColormap"
   ]
  },
  {
   "cell_type": "code",
   "execution_count": 2,
   "metadata": {},
   "outputs": [
    {
     "data": {
      "image/png": "[encoded data removed]",
      "text/plain": [
       "<Figure size 432x72 with 1 Axes>"
      ]
     },
     "metadata": {
      "needs_background": "light"
     },
     "output_type": "display_data"
    }
   ],
   "source": [
    "#モザイクタイルの色を指定　増やせます\n",
    "palette = [\"#9b59b6\", \"#3498db\", \"#ffffff\", \"#e74c3c\", \"#34495e\", \"#2ecc71\"]\n",
    "\n",
    "sns.palplot(sns.color_palette(palette, len(palette)))\n",
    "cmap_palette = ListedColormap(sns.color_palette(palette).as_hex())"
   ]
  },
  {
   "cell_type": "code",
   "execution_count": 3,
   "metadata": {},
   "outputs": [],
   "source": [
    "def generate_tiles(*, row=10, column=10, symmetry='none'):\n",
    "    if symmetry == 'none':\n",
    "        return np.random.rand(row, column)\n",
    "    elif symmetry == 'vertical':\n",
    "        left = np.random.rand(row, -(-column//2))\n",
    "        right = [left[i][-(column%2)-1::-1] for i in range(len(left))]\n",
    "        return np.concatenate([left, right], axis=1)\n",
    "    elif symmetry == 'horizontal':\n",
    "        upper = np.random.rand(-(-row//2), column)\n",
    "        lower = upper[row%2-1::-1]\n",
    "        return np.concatenate([upper, lower], axis=0)\n",
    "    else:\n",
    "        print(\"Invalid argument for symmetry, assuming 'none.'\")\n",
    "        return np.random.rand(row, column)"
   ]
  },
  {
   "cell_type": "code",
   "execution_count": 4,
   "metadata": {},
   "outputs": [
    {
     "data": {
      "text/plain": [
       "<matplotlib.axes._subplots.AxesSubplot at 0x18f30d52898>"
      ]
     },
     "execution_count": 4,
     "metadata": {},
     "output_type": "execute_result"
    },
    {
     "data": {
      "image/png": "[encoded data removed]",
      "text/plain": [
       "<Figure size 432x288 with 1 Axes>"
      ]
     },
     "metadata": {},
     "output_type": "display_data"
    }
   ],
   "source": [
    "tiles = generate_tiles(row=8, column=8, symmetry='none')  #行の数、列の数、対称設定(none, veritcal, horizontal)\n",
    "line_width = 2   #タイルの仕切り線の幅\n",
    "\n",
    "plt.figure()\n",
    "sns.heatmap(tiles, linewidth=line_width, cmap=cmap_palette, square=True, cbar=False, xticklabels=False, yticklabels=False)"
   ]
  },
  {
   "cell_type": "code",
   "execution_count": 5,
   "metadata": {},
   "outputs": [
    {
     "data": {
      "text/plain": [
       "<matplotlib.axes._subplots.AxesSubplot at 0x18f30d87780>"
      ]
     },
     "execution_count": 5,
     "metadata": {},
     "output_type": "execute_result"
    },
    {
     "data": {
      "image/png": "[encoded data removed]",
      "text/plain": [
       "<Figure size 432x288 with 1 Axes>"
      ]
     },
     "metadata": {},
     "output_type": "display_data"
    }
   ],
   "source": [
    "tiles = generate_tiles(row=5, column=5, symmetry='vertical')  #GitHubのidenticonっぽいもの\n",
    "line_width = 0\n",
    "\n",
    "plt.figure()\n",
    "sns.heatmap(tiles, linewidth=line_width, cmap=cmap_palette, square=True, cbar=False, xticklabels=False, yticklabels=False)"
   ]
  },
  {
   "cell_type": "code",
   "execution_count": 6,
   "metadata": {},
   "outputs": [
    {
     "data": {
      "text/plain": [
       "<matplotlib.axes._subplots.AxesSubplot at 0x18f30dcf7f0>"
      ]
     },
     "execution_count": 6,
     "metadata": {},
     "output_type": "execute_result"
    },
    {
     "data": {
      "image/png": "[encoded data removed]",
      "text/plain": [
       "<Figure size 432x288 with 1 Axes>"
      ]
     },
     "metadata": {},
     "output_type": "display_data"
    }
   ],
   "source": [
    "#上のプレビューがいい感じになったら以下のコメントアウトを解除して任意のフォーマットで出力\n",
    "plt.figure()\n",
    "sns.heatmap(tiles, linewidth=line_width, cmap=cmap_palette, square=True, cbar=False, xticklabels=False, yticklabels=False)\n",
    "\n",
    "#plt.savefig(\"mosaictile.png\", dpi=400, transparent=True)\n",
    "#plt.savefig(\"mosaictile.pdf\", format=\"pdf\", transparent=True)\n",
    "#plt.savefig(\"mosaictile.svg\", format=\"svg\", transparent=True)"
   ]
  }
 ],
 "metadata": {
  "kernelspec": {
   "display_name": "Python 3",
   "language": "python",
   "name": "python3"
  },
  "language_info": {
   "codemirror_mode": {
    "name": "ipython",
    "version": 3
   },
   "file_extension": ".py",
   "mimetype": "text/x-python",
   "name": "python",
   "nbconvert_exporter": "python",
   "pygments_lexer": "ipython3",
   "version": "3.7.1"
  }
 },
 "nbformat": 4,
 "nbformat_minor": 2
}
