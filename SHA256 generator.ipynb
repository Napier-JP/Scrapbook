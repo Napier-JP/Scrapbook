{
 "cells": [
  {
   "cell_type": "code",
   "execution_count": 1,
   "metadata": {},
   "outputs": [],
   "source": [
    "import hashlib\n",
    "import datetime"
   ]
  },
  {
   "cell_type": "code",
   "execution_count": 2,
   "metadata": {},
   "outputs": [
    {
     "name": "stdout",
     "output_type": "stream",
     "text": [
      "b865c9ab32ab7c06da4908427e0a1bdd790fd3c4deeb526b1c2ff7e180a9b49d\n"
     ]
    }
   ],
   "source": [
    "nowtime = datetime.datetime.now().strftime('%Y%m%d%H%M%S%f')\n",
    "\n",
    "salt = \"Add some salt here for ensuring randomness\"  #Edit here\n",
    "\n",
    "\n",
    "if salt == \"Add some salt here for ensuring randomness\":\n",
    "    print(\"ERROR:Change salt for ensuring randomness.\")\n",
    "else:\n",
    "    m = hashlib.sha256()\n",
    "    m.update((nowtime + salt).encode(encoding='utf-8'))\n",
    "    print(m.hexdigest())"
   ]
  },
  {
   "cell_type": "markdown",
   "metadata": {},
   "source": [
    "# Do NOT use this for generating secret string, because you will always get the same result under the condition where time and salt are fixed."
   ]
  },
  {
   "cell_type": "markdown",
   "metadata": {},
   "source": [
    "## You can use this for getting unique global name i.e. cloud VM instance."
   ]
  }
 ],
 "metadata": {
  "kernelspec": {
   "display_name": "Python 3",
   "language": "python",
   "name": "python3"
  },
  "language_info": {
   "codemirror_mode": {
    "name": "ipython",
    "version": 3
   },
   "file_extension": ".py",
   "mimetype": "text/x-python",
   "name": "python",
   "nbconvert_exporter": "python",
   "pygments_lexer": "ipython3",
   "version": "3.7.1"
  }
 },
 "nbformat": 4,
 "nbformat_minor": 2
}
